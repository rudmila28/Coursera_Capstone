{
 "cells": [
  {
   "cell_type": "markdown",
   "metadata": {},
   "source": [
    "# Data Description:"
   ]
  },
  {
   "cell_type": "markdown",
   "metadata": {},
   "source": [
    "Data source Link: https://en.wikipedia.org/wiki/List_of_postal_codes_of_Canada:_M\n",
    "\n",
    "I am using Scarborough dataset which we scrapped from wikipedia on Week 3. This Dataset consists of latitude and longitude and zip codes."
   ]
  },
  {
   "cell_type": "markdown",
   "metadata": {},
   "source": [
    "### Foursquare API Data: "
   ]
  },
  {
   "cell_type": "markdown",
   "metadata": {},
   "source": [
    "\n",
    "To perform the project work, I require the data about different venues in different neighborhoods of that specific borough. To get this data, I will use \"Foursquare\" locational information. Foursquare is a location data provider with information including venues and events within an area of interest. The information includes venue names, locations, menus and even photos. Therefore, to obtain all this information, the foursquare location API will be used as the sole data source. After listing the neighborhoods, I will connect to the Foursquare API to gather information about venues inside each and every neighborhood. For each neighborhood, the radius will be 100 meter. The data retrieved from Foursquare will contain information as follows:\n",
    "\n",
    "1. Neighborhood\n",
    "2. Latitude of the Neighborhood\n",
    "3. Longitude of the Neighborhood\n",
    "4. Venue\n",
    "5. Name of the venue (example: store or school name)\n",
    "6. Longitude of the Venue\n",
    "7. Latitude of the Venue\n",
    "8. Venue Category"
   ]
  },
  {
   "cell_type": "code",
   "execution_count": null,
   "metadata": {},
   "outputs": [],
   "source": []
  }
 ],
 "metadata": {
  "kernelspec": {
   "display_name": "Python 3",
   "language": "python",
   "name": "python3"
  },
  "language_info": {
   "codemirror_mode": {
    "name": "ipython",
    "version": 3
   },
   "file_extension": ".py",
   "mimetype": "text/x-python",
   "name": "python",
   "nbconvert_exporter": "python",
   "pygments_lexer": "ipython3",
   "version": "3.6.7"
  }
 },
 "nbformat": 4,
 "nbformat_minor": 2
}
